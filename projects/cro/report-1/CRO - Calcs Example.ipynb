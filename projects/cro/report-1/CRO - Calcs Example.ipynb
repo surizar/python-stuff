{
 "cells": [
  {
   "cell_type": "code",
   "execution_count": 1,
   "metadata": {},
   "outputs": [],
   "source": [
    "import pandas as pd\n",
    "import matplotlib.pyplot as plt\n",
    "import math"
   ]
  },
  {
   "cell_type": "code",
   "execution_count": 2,
   "metadata": {},
   "outputs": [
    {
     "data": {
      "text/html": [
       "<div>\n",
       "<style scoped>\n",
       "    .dataframe tbody tr th:only-of-type {\n",
       "        vertical-align: middle;\n",
       "    }\n",
       "\n",
       "    .dataframe tbody tr th {\n",
       "        vertical-align: top;\n",
       "    }\n",
       "\n",
       "    .dataframe thead th {\n",
       "        text-align: right;\n",
       "    }\n",
       "</style>\n",
       "<table border=\"1\" class=\"dataframe\">\n",
       "  <thead>\n",
       "    <tr style=\"text-align: right;\">\n",
       "      <th></th>\n",
       "      <th>Variation</th>\n",
       "      <th>Visitors</th>\n",
       "      <th>Leaders</th>\n",
       "      <th>Bookers</th>\n",
       "    </tr>\n",
       "    <tr>\n",
       "      <th>Test</th>\n",
       "      <th></th>\n",
       "      <th></th>\n",
       "      <th></th>\n",
       "      <th></th>\n",
       "    </tr>\n",
       "  </thead>\n",
       "  <tbody>\n",
       "    <tr>\n",
       "      <th>Test1</th>\n",
       "      <td>A</td>\n",
       "      <td>437717</td>\n",
       "      <td>62387</td>\n",
       "      <td>2881</td>\n",
       "    </tr>\n",
       "    <tr>\n",
       "      <th>Test1</th>\n",
       "      <td>B</td>\n",
       "      <td>438820</td>\n",
       "      <td>63874</td>\n",
       "      <td>2908</td>\n",
       "    </tr>\n",
       "  </tbody>\n",
       "</table>\n",
       "</div>"
      ],
      "text/plain": [
       "      Variation  Visitors  Leaders  Bookers\n",
       "Test                                       \n",
       "Test1         A    437717    62387     2881\n",
       "Test1         B    438820    63874     2908"
      ]
     },
     "execution_count": 2,
     "metadata": {},
     "output_type": "execute_result"
    }
   ],
   "source": [
    "d1 = [['Test1','A',437717,62387,2881],\n",
    "      ['Test1','B',438820,63874,2908]] \n",
    "\n",
    "d2 = [['Test2','A',92001,26695,1524],\n",
    "      ['Test2','B',92172,26617,1583]] \n",
    "\n",
    "d3 = [['Test3','A',52313,13673,810],\n",
    "      ['Test3','B',51995,16249,894]] \n",
    "\n",
    "t1_df = pd.DataFrame(d1,columns=['Test','Variation','Visitors','Leaders','Bookers'])\n",
    "t2_df = pd.DataFrame(d2,columns=['Test','Variation','Visitors','Leaders','Bookers'])\n",
    "t3_df = pd.DataFrame(d3,columns=['Test','Variation','Visitors','Leaders','Bookers'])\n",
    "\n",
    "t1_df.set_index('Test',inplace=True)\n",
    "t2_df.set_index('Test',inplace=True)\n",
    "t3_df.set_index('Test',inplace=True)\n",
    "\n",
    "t1_df.head()\n",
    "\n"
   ]
  },
  {
   "cell_type": "markdown",
   "metadata": {},
   "source": [
    "### Sample size\n",
    "* Set MDE (Minimun detectable effect)\n",
    "* Set Variations number\n",
    "* Set Current Conversion (Baseline)"
   ]
  },
  {
   "cell_type": "code",
   "execution_count": 6,
   "metadata": {},
   "outputs": [
    {
     "name": "stdout",
     "output_type": "stream",
     "text": [
      "STD (spread): 0.25\n",
      "N at 80% power: 124980\n",
      "N at 95% power: 203093\n"
     ]
    }
   ],
   "source": [
    "########### Test sample config ##############\n",
    "mde = 0.06\n",
    "variations = 2\n",
    "base_conversion = 0.0664\n",
    "############################################\n",
    "\n",
    "std = math.sqrt(base_conversion * (1-base_conversion))\n",
    "n_at_p80 = 16 * variations * (std/(base_conversion*mde))**2\n",
    "n_at_p95 = 26 * variations * (std/(base_conversion*mde))**2\n",
    "\n",
    "print ('''STD (spread): {:.2f}\n",
    "N at 80% power: {:.0f}\n",
    "N at 95% power: {:.0f}'''.format(std,math.ceil(n_at_p80),math.ceil(n_at_p95)))"
   ]
  },
  {
   "cell_type": "markdown",
   "metadata": {},
   "source": [
    "### Test evaluation"
   ]
  },
  {
   "cell_type": "code",
   "execution_count": 4,
   "metadata": {},
   "outputs": [],
   "source": [
    "###### Set test to evaluate #######\n",
    "df = t1_df"
   ]
  },
  {
   "cell_type": "code",
   "execution_count": 5,
   "metadata": {},
   "outputs": [
    {
     "data": {
      "text/html": [
       "<div>\n",
       "<style scoped>\n",
       "    .dataframe tbody tr th:only-of-type {\n",
       "        vertical-align: middle;\n",
       "    }\n",
       "\n",
       "    .dataframe tbody tr th {\n",
       "        vertical-align: top;\n",
       "    }\n",
       "\n",
       "    .dataframe thead th {\n",
       "        text-align: right;\n",
       "    }\n",
       "</style>\n",
       "<table border=\"1\" class=\"dataframe\">\n",
       "  <thead>\n",
       "    <tr style=\"text-align: right;\">\n",
       "      <th></th>\n",
       "      <th>Variation</th>\n",
       "      <th>Visitors</th>\n",
       "      <th>Leaders</th>\n",
       "      <th>Bookers</th>\n",
       "      <th>Leaders_Rate</th>\n",
       "      <th>Bookers_Rate</th>\n",
       "    </tr>\n",
       "    <tr>\n",
       "      <th>Test</th>\n",
       "      <th></th>\n",
       "      <th></th>\n",
       "      <th></th>\n",
       "      <th></th>\n",
       "      <th></th>\n",
       "      <th></th>\n",
       "    </tr>\n",
       "  </thead>\n",
       "  <tbody>\n",
       "    <tr>\n",
       "      <th>Test1</th>\n",
       "      <td>A</td>\n",
       "      <td>437717</td>\n",
       "      <td>62387</td>\n",
       "      <td>2881</td>\n",
       "      <td>0.142528</td>\n",
       "      <td>0.006582</td>\n",
       "    </tr>\n",
       "    <tr>\n",
       "      <th>Test1</th>\n",
       "      <td>B</td>\n",
       "      <td>438820</td>\n",
       "      <td>63874</td>\n",
       "      <td>2908</td>\n",
       "      <td>0.145559</td>\n",
       "      <td>0.006627</td>\n",
       "    </tr>\n",
       "  </tbody>\n",
       "</table>\n",
       "</div>"
      ],
      "text/plain": [
       "      Variation  Visitors  Leaders  Bookers  Leaders_Rate  Bookers_Rate\n",
       "Test                                                                   \n",
       "Test1         A    437717    62387     2881      0.142528      0.006582\n",
       "Test1         B    438820    63874     2908      0.145559      0.006627"
      ]
     },
     "execution_count": 5,
     "metadata": {},
     "output_type": "execute_result"
    }
   ],
   "source": [
    "###################################\n",
    "df['Leaders_Rate']=df['Leaders']['Test1']/df['Visitors']['Test1']\n",
    "df['Bookers_Rate']=df['Bookers']['Test1']/df['Visitors']['Test1']\n",
    "\n",
    "#df['SE_Leaders']=  math.sqrt(df['Leaders_Rate']['Test1']*(1-df['Leaders_Rate']['Test1'])/df['Visitors']['Test1']) \n",
    "#df['SE_Bookers']=  df['Bookers_rate']['Test1']\n",
    "\n",
    "df.head()\n"
   ]
  }
 ],
 "metadata": {
  "kernelspec": {
   "display_name": "Python 3",
   "language": "python",
   "name": "python3"
  },
  "language_info": {
   "codemirror_mode": {
    "name": "ipython",
    "version": 3
   },
   "file_extension": ".py",
   "mimetype": "text/x-python",
   "name": "python",
   "nbconvert_exporter": "python",
   "pygments_lexer": "ipython3",
   "version": "3.8.5"
  }
 },
 "nbformat": 4,
 "nbformat_minor": 4
}
