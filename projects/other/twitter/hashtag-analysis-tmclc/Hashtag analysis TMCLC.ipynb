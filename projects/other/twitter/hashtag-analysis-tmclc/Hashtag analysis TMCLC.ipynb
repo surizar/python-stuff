{
 "cells": [
  {
   "cell_type": "code",
   "execution_count": 1,
   "id": "73e544cc",
   "metadata": {},
   "outputs": [],
   "source": [
    "import pandas as pd"
   ]
  },
  {
   "cell_type": "code",
   "execution_count": 4,
   "id": "85ec8788",
   "metadata": {},
   "outputs": [
    {
     "name": "stdout",
     "output_type": "stream",
     "text": [
      "<class 'pandas.core.frame.DataFrame'>\n",
      "RangeIndex: 844 entries, 0 to 843\n",
      "Data columns (total 22 columns):\n",
      " #   Column                 Non-Null Count  Dtype  \n",
      "---  ------                 --------------  -----  \n",
      " 0   canonical_url          0 non-null      float64\n",
      " 1   date_published         844 non-null    object \n",
      " 2   domain                 0 non-null      float64\n",
      " 3   from_user_botscore     789 non-null    float64\n",
      " 4   from_user_id           844 non-null    int64  \n",
      " 5   from_user_screen_name  844 non-null    object \n",
      " 6   id                     0 non-null      float64\n",
      " 7   is_mention             844 non-null    bool   \n",
      " 8   original_query         844 non-null    object \n",
      " 9   pub_date               844 non-null    object \n",
      " 10  site_domain            0 non-null      float64\n",
      " 11  site_type              844 non-null    object \n",
      " 12  title                  0 non-null      float64\n",
      " 13  to_user_botscore       740 non-null    float64\n",
      " 14  to_user_id             844 non-null    int64  \n",
      " 15  to_user_screen_name    844 non-null    object \n",
      " 16  tweet_created_at       844 non-null    object \n",
      " 17  tweet_id               844 non-null    int64  \n",
      " 18  tweet_type             844 non-null    object \n",
      " 19  tweet_url              844 non-null    object \n",
      " 20  url_id                 0 non-null      float64\n",
      " 21  url_raw                0 non-null      float64\n",
      "dtypes: bool(1), float64(9), int64(3), object(9)\n",
      "memory usage: 139.4+ KB\n"
     ]
    }
   ],
   "source": [
    "tweets = pd.read_csv('hoaxy-data.csv')\n",
    "tweets.info()"
   ]
  }
 ],
 "metadata": {
  "kernelspec": {
   "display_name": "Python 3",
   "language": "python",
   "name": "python3"
  },
  "language_info": {
   "codemirror_mode": {
    "name": "ipython",
    "version": 3
   },
   "file_extension": ".py",
   "mimetype": "text/x-python",
   "name": "python",
   "nbconvert_exporter": "python",
   "pygments_lexer": "ipython3",
   "version": "3.8.8"
  }
 },
 "nbformat": 4,
 "nbformat_minor": 5
}
