{
 "cells": [
  {
   "cell_type": "markdown",
   "metadata": {
    "collapsed": true
   },
   "source": [
    "## Exploring Hacker News Posts\n",
    "\n",
    "Exploring posts with either Ask HN or Show HN.\n",
    "\n",
    "Users submit Ask HN posts to ask the Hacker News community a specific question. Below are a couple examples:\n",
    "\n",
    "> Ask HN: How to improve my personal website?\n",
    "> Ask HN: Am I the only one outraged by Twitter shutting down share counts?\n",
    "> Ask HN: Aby recent changes to CSS that broke mobile?\n",
    "\n",
    "Likewise, users submit Show HN posts to show the Hacker News community a project, product, or just generally something interesting. Below are a couple of examples:\n",
    "\n",
    "> Show HN: Wio Link  ESP8266 Based Web of Things Hardware Development Platform'\n",
    "> Show HN: Something pointless I made\n",
    "> Show HN: Shanhu.io, a programming playground powered by e8vm\n",
    "\n",
    "#### Questions\n",
    "We'll compare these two types of posts to determine the following:\n",
    "- Do Ask HN or Show HN receive more comments on average?\n",
    "- Do posts created at a certain time receive more comments on average?\n",
    "\n",
    "\n",
    "I'll be using the folowing kaggle [dataset](https://www.kaggle.com/hacker-news/hacker-news-posts)\n",
    "\n",
    "Note: The dataset was reduced from almost 300,000 rows to approximately 20,000 rows by removing all submissions that did not receive any comments, and then randomly sampling from the remaining submissions.\n",
    "\n",
    "\n",
    "\n"
   ]
  },
  {
   "cell_type": "markdown",
   "metadata": {},
   "source": [
    "#### Opening file and creating hn var"
   ]
  },
  {
   "cell_type": "code",
   "execution_count": 11,
   "metadata": {},
   "outputs": [],
   "source": [
    "from csv import reader\n",
    "\n",
    "opened_file = open ('hacker_news.csv')\n",
    "readed_file = reader(opened_file)\n",
    "hn = list(readed_file)"
   ]
  },
  {
   "cell_type": "markdown",
   "metadata": {},
   "source": [
    "#### display first 5 rows of the hn dataset"
   ]
  },
  {
   "cell_type": "code",
   "execution_count": 12,
   "metadata": {},
   "outputs": [
    {
     "name": "stdout",
     "output_type": "stream",
     "text": [
      "[['id', 'title', 'url', 'num_points', 'num_comments', 'author', 'created_at'], ['12224879', 'Interactive Dynamic Video', 'http://www.interactivedynamicvideo.com/', '386', '52', 'ne0phyte', '8/4/2016 11:52'], ['10975351', 'How to Use Open Source and Shut the Fuck Up at the Same Time', 'http://hueniverse.com/2016/01/26/how-to-use-open-source-and-shut-the-fuck-up-at-the-same-time/', '39', '10', 'josep2', '1/26/2016 19:30'], ['11964716', \"Florida DJs May Face Felony for April Fools' Water Joke\", 'http://www.thewire.com/entertainment/2013/04/florida-djs-april-fools-water-joke/63798/', '2', '1', 'vezycash', '6/23/2016 22:20'], ['11919867', 'Technology ventures: From Idea to Enterprise', 'https://www.amazon.com/Technology-Ventures-Enterprise-Thomas-Byers/dp/0073523429', '3', '1', 'hswarna', '6/17/2016 0:01']]\n"
     ]
    }
   ],
   "source": [
    "print (hn[:5])"
   ]
  },
  {
   "cell_type": "markdown",
   "metadata": {},
   "source": [
    "#### Separate header from data"
   ]
  },
  {
   "cell_type": "code",
   "execution_count": 13,
   "metadata": {},
   "outputs": [
    {
     "name": "stdout",
     "output_type": "stream",
     "text": [
      "['id', 'title', 'url', 'num_points', 'num_comments', 'author', 'created_at']\n",
      "----\n",
      "[['12224879', 'Interactive Dynamic Video', 'http://www.interactivedynamicvideo.com/', '386', '52', 'ne0phyte', '8/4/2016 11:52'], ['10975351', 'How to Use Open Source and Shut the Fuck Up at the Same Time', 'http://hueniverse.com/2016/01/26/how-to-use-open-source-and-shut-the-fuck-up-at-the-same-time/', '39', '10', 'josep2', '1/26/2016 19:30'], ['11964716', \"Florida DJs May Face Felony for April Fools' Water Joke\", 'http://www.thewire.com/entertainment/2013/04/florida-djs-april-fools-water-joke/63798/', '2', '1', 'vezycash', '6/23/2016 22:20'], ['11919867', 'Technology ventures: From Idea to Enterprise', 'https://www.amazon.com/Technology-Ventures-Enterprise-Thomas-Byers/dp/0073523429', '3', '1', 'hswarna', '6/17/2016 0:01'], ['10301696', 'Note by Note: The Making of Steinway L1037 (2007)', 'http://www.nytimes.com/2007/11/07/movies/07stein.html?_r=0', '8', '2', 'walterbell', '9/30/2015 4:12']]\n"
     ]
    }
   ],
   "source": [
    "headers = hn[0]\n",
    "hn=hn[1:]\n",
    "print (headers)\n",
    "print ('----')\n",
    "print (hn[:5])"
   ]
  },
  {
   "cell_type": "markdown",
   "metadata": {},
   "source": [
    "##### Extracting Ask HN and Show HN Posts\n",
    "Extract Ask HN and show HN posts.\n",
    "Print the number of posts."
   ]
  },
  {
   "cell_type": "code",
   "execution_count": 14,
   "metadata": {},
   "outputs": [
    {
     "name": "stdout",
     "output_type": "stream",
     "text": [
      "1744\n",
      "1162\n",
      "17194\n"
     ]
    }
   ],
   "source": [
    "ask_posts = []\n",
    "show_posts = []\n",
    "other_posts = []\n",
    "\n",
    "for item in hn:\n",
    "    title=item[1]\n",
    "    if title.lower().startswith('ask hn'):\n",
    "        ask_posts.append(item)\n",
    "    elif title.lower().startswith('show hn'):\n",
    "        show_posts.append(item)\n",
    "    else:\n",
    "        other_posts.append(item)\n",
    "        \n",
    "print (len(ask_posts))\n",
    "print (len(show_posts))\n",
    "print (len(other_posts))\n"
   ]
  },
  {
   "cell_type": "markdown",
   "metadata": {},
   "source": [
    "#### Calculate the Average Number of Comments for Ask HN and Show HN Posts"
   ]
  },
  {
   "cell_type": "code",
   "execution_count": 17,
   "metadata": {},
   "outputs": [
    {
     "name": "stdout",
     "output_type": "stream",
     "text": [
      "Average ask comments: 14.04\n",
      "Average show comments: 10.32\n"
     ]
    }
   ],
   "source": [
    "total_ask_comments = 0\n",
    "for ask in ask_posts:\n",
    "    total_ask_comments += int(ask[4])\n",
    "avg_ask_comments = total_ask_comments / len(ask_posts)\n",
    "print ('Average ask comments: {:.2f}'.format(avg_ask_comments))\n",
    "\n",
    "total_show_comments=0\n",
    "for show in show_posts:\n",
    "    total_show_comments += int(show[4])\n",
    "avg_show_comments = total_show_comments / len(show_posts)\n",
    "print ('Average show comments: {:.2f}'.format(avg_show_comments))\n",
    "\n"
   ]
  },
  {
   "cell_type": "markdown",
   "metadata": {},
   "source": [
    "From the previous calculation we see that in average, **Ask HN** posts receive more comments than the **Show HN** posts \n",
    "\n",
    "| Post Type | Average comments |\n",
    "|----|:-----:|\n",
    "| Ask HN | 14.04 |\n",
    "| Show HN | 10.32 |"
   ]
  },
  {
   "cell_type": "markdown",
   "metadata": {},
   "source": [
    "#### Finding the amount of ask posts and comments by hour created\n",
    "\n",
    "Finding if ask posts created at a certain time are more likely to attract comments"
   ]
  },
  {
   "cell_type": "code",
   "execution_count": 34,
   "metadata": {
    "scrolled": true
   },
   "outputs": [
    {
     "name": "stdout",
     "output_type": "stream",
     "text": [
      "[('00', 55), ('01', 60), ('02', 58), ('03', 54), ('04', 47), ('05', 46), ('06', 44), ('07', 34), ('08', 48), ('09', 45), ('10', 59), ('11', 58), ('12', 73), ('13', 85), ('14', 107), ('15', 116), ('16', 108), ('17', 100), ('18', 109), ('19', 110), ('20', 80), ('21', 109), ('22', 71), ('23', 68)]\n",
      "[('00', 447), ('01', 683), ('02', 1381), ('03', 421), ('04', 337), ('05', 464), ('06', 397), ('07', 267), ('08', 492), ('09', 251), ('10', 793), ('11', 641), ('12', 687), ('13', 1253), ('14', 1416), ('15', 4477), ('16', 1814), ('17', 1146), ('18', 1439), ('19', 1188), ('20', 1722), ('21', 1745), ('22', 479), ('23', 543)]\n"
     ]
    }
   ],
   "source": [
    "import datetime as dt\n",
    "\n",
    "result_list = []\n",
    "\n",
    "for ask in ask_posts:\n",
    "    result_list.append([ask[6],int(ask[4])])\n",
    "\n",
    "counts_by_hour = {}\n",
    "comments_by_hour = {}\n",
    "\n",
    "date_format = \"%m/%d/%Y %H:%M\"\n",
    "\n",
    "for result in result_list:\n",
    "    date = dt.datetime.strptime(result[0],date_format)\n",
    "    hour = date.strftime(\"%H\")\n",
    "    if hour in counts_by_hour:\n",
    "        counts_by_hour[hour] += 1\n",
    "        comments_by_hour[hour] += result[1]\n",
    "    else:\n",
    "        counts_by_hour[hour] = 1\n",
    "        comments_by_hour[hour] = result[1]\n",
    "\n",
    "\n",
    "\n",
    "print (sorted(counts_by_hour.items()))\n",
    "print (sorted(comments_by_hour.items()))"
   ]
  },
  {
   "cell_type": "markdown",
   "metadata": {},
   "source": [
    "#### Calculating the average number of comments for Ask HN Posts by Hour"
   ]
  },
  {
   "cell_type": "code",
   "execution_count": 35,
   "metadata": {},
   "outputs": [
    {
     "name": "stdout",
     "output_type": "stream",
     "text": [
      "[['09', 5.5777777777777775], ['13', 14.741176470588234], ['10', 13.440677966101696], ['14', 13.233644859813085], ['16', 16.796296296296298], ['23', 7.985294117647059], ['12', 9.41095890410959], ['17', 11.46], ['15', 38.5948275862069], ['21', 16.009174311926607], ['20', 21.525], ['02', 23.810344827586206], ['18', 13.20183486238532], ['03', 7.796296296296297], ['05', 10.08695652173913], ['19', 10.8], ['01', 11.383333333333333], ['22', 6.746478873239437], ['08', 10.25], ['04', 7.170212765957447], ['00', 8.127272727272727], ['06', 9.022727272727273], ['07', 7.852941176470588], ['11', 11.051724137931034]]\n"
     ]
    }
   ],
   "source": [
    "avg_by_hour = []\n",
    "\n",
    "for hour in counts_by_hour:\n",
    "    avg_by_hour.append([hour,comments_by_hour[hour]/counts_by_hour[hour]])\n",
    "\n",
    "print(avg_by_hour)"
   ]
  },
  {
   "cell_type": "markdown",
   "metadata": {},
   "source": [
    "#### Sortint and printing values from a list of lists\n"
   ]
  },
  {
   "cell_type": "code",
   "execution_count": 47,
   "metadata": {},
   "outputs": [
    {
     "name": "stdout",
     "output_type": "stream",
     "text": [
      "[[5.5777777777777775, '09'], [14.741176470588234, '13'], [13.440677966101696, '10'], [13.233644859813085, '14'], [16.796296296296298, '16'], [7.985294117647059, '23'], [9.41095890410959, '12'], [11.46, '17'], [38.5948275862069, '15'], [16.009174311926607, '21'], [21.525, '20'], [23.810344827586206, '02'], [13.20183486238532, '18'], [7.796296296296297, '03'], [10.08695652173913, '05'], [10.8, '19'], [11.383333333333333, '01'], [6.746478873239437, '22'], [10.25, '08'], [7.170212765957447, '04'], [8.127272727272727, '00'], [9.022727272727273, '06'], [7.852941176470588, '07'], [11.051724137931034, '11']]\n",
      "----------------\n",
      "Top 5 Hours for Ask Post Comments\n",
      "15:00: 38.59 average comments per post\n",
      "02:00: 23.81 average comments per post\n",
      "20:00: 21.52 average comments per post\n",
      "16:00: 16.80 average comments per post\n",
      "21:00: 16.01 average comments per post\n"
     ]
    }
   ],
   "source": [
    "swap_avg_by_hour = []\n",
    "\n",
    "for item in avg_by_hour:\n",
    "    swap_avg_by_hour.append([item[1],item[0]])\n",
    "\n",
    "print(swap_avg_by_hour)\n",
    "print('----------------')\n",
    "\n",
    "sorted_swap = sorted(swap_avg_by_hour,reverse=True)\n",
    "\n",
    "print (\"Top 5 Hours for Ask Post Comments\")\n",
    "\n",
    "time_format = \"%H\"\n",
    "\n",
    "for item in sorted_swap[:5]:\n",
    "    date = dt.datetime.strptime(item[1],time_format)\n",
    "    hour = date.strftime(\"%H:%M\")\n",
    "    print('{0}: {1:.2f} average comments per post'.format(hour,item[0]))\n"
   ]
  },
  {
   "cell_type": "markdown",
   "metadata": {},
   "source": [
    "#### conclusions\n",
    "Based on the information, the best times (EST) to create Ask posts and get comments are:\n",
    "\n",
    "|Hour|Avg. Comments per post|\n",
    "|---|:------:|\n",
    "|15:00|38.59|\n",
    "|02:00|23.81|\n",
    "|20:00|21.52|\n",
    "|16:00|16.80|\n",
    "|21:00|16.01|"
   ]
  }
 ],
 "metadata": {
  "kernelspec": {
   "display_name": "Python 3",
   "language": "python",
   "name": "python3"
  },
  "language_info": {
   "codemirror_mode": {
    "name": "ipython",
    "version": 3
   },
   "file_extension": ".py",
   "mimetype": "text/x-python",
   "name": "python",
   "nbconvert_exporter": "python",
   "pygments_lexer": "ipython3",
   "version": "3.8.2"
  }
 },
 "nbformat": 4,
 "nbformat_minor": 2
}
