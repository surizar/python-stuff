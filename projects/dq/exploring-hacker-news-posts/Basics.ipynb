{
 "cells": [
  {
   "cell_type": "markdown",
   "metadata": {
    "collapsed": true
   },
   "source": [
    "## Exploring Hacker News Posts\n",
    "\n",
    "Exploring posts with either Ask HN or Show HN.\n",
    "\n",
    "Users submit Ask HN posts to ask the Hacker News community a specific question. Below are a couple examples:\n",
    "\n",
    "> Ask HN: How to improve my personal website?\n",
    "> Ask HN: Am I the only one outraged by Twitter shutting down share counts?\n",
    "> Ask HN: Aby recent changes to CSS that broke mobile?\n",
    "\n",
    "Likewise, users submit Show HN posts to show the Hacker News community a project, product, or just generally something interesting. Below are a couple of examples:\n",
    "\n",
    "> Show HN: Wio Link  ESP8266 Based Web of Things Hardware Development Platform'\n",
    "> Show HN: Something pointless I made\n",
    "> Show HN: Shanhu.io, a programming playground powered by e8vm\n",
    "\n",
    "#### Questions\n",
    "We'll compare these two types of posts to determine the following:\n",
    "- Do Ask HN or Show HN receive more comments on average?\n",
    "- Do posts created at a certain time receive more comments on average?\n",
    "\n",
    "\n",
    "I'll be using the folowing kaggle [dataset](https://www.kaggle.com/hacker-news/hacker-news-posts)\n",
    "\n",
    "Note: The dataset was reduced from almost 300,000 rows to approximately 20,000 rows by removing all submissions that did not receive any comments, and then randomly sampling from the remaining submissions."
   ]
  }
 ],
 "metadata": {
  "kernelspec": {
   "display_name": "Python 3",
   "language": "python",
   "name": "python3"
  },
  "language_info": {
   "codemirror_mode": {
    "name": "ipython",
    "version": 3
   },
   "file_extension": ".py",
   "mimetype": "text/x-python",
   "name": "python",
   "nbconvert_exporter": "python",
   "pygments_lexer": "ipython3",
   "version": "3.8.5"
  }
 },
 "nbformat": 4,
 "nbformat_minor": 2
}
